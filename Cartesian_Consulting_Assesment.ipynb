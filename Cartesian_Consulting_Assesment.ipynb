{
  "nbformat": 4,
  "nbformat_minor": 0,
  "metadata": {
    "colab": {
      "name": "Cartesian-Consulting-Assesment.ipynb",
      "provenance": [],
      "collapsed_sections": []
    },
    "kernelspec": {
      "name": "python3",
      "display_name": "Python 3"
    },
    "language_info": {
      "name": "python"
    }
  },
  "cells": [
    {
      "cell_type": "code",
      "execution_count": 4,
      "metadata": {
        "colab": {
          "base_uri": "https://localhost:8080/"
        },
        "id": "bn9pNUBA0AUI",
        "outputId": "846021b1-485f-4646-a120-223ef3d53073"
      },
      "outputs": [
        {
          "output_type": "stream",
          "name": "stdout",
          "text": [
            "This declaration represents a political commitment among declaration partners to advance a positive vision for the Internet in this era of a united europe\n",
            "europe united a of era this in Internet the for vision positive a advance to partners declaration among commitment political a represents declaration This\n",
            "[('a', 3), ('this', 2)]\n"
          ]
        }
      ],
      "source": [
        "#input\n",
        "str = input()\n",
        "\n",
        "#splitting the string\n",
        "str1 = str.split()\n",
        "\n",
        "#Reversing function\n",
        "str1 = list(reversed(str1))\n",
        "print(\" \".join(str1))\n",
        "\n",
        "#printinig occurences\n",
        "from collections import Counter\n",
        "text = str.lower()\n",
        "text1 = text.split()\n",
        "Counter = Counter(text1)\n",
        "repeated_words = Counter.most_common(2)\n",
        "print(repeated_words)"
      ]
    },
    {
      "cell_type": "code",
      "source": [],
      "metadata": {
        "id": "fGcUPFg80FVH"
      },
      "execution_count": null,
      "outputs": []
    }
  ]
}