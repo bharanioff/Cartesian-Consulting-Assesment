{
  "nbformat": 4,
  "nbformat_minor": 0,
  "metadata": {
    "colab": {
      "name": "Assignment 1.ipynb",
      "provenance": []
    },
    "kernelspec": {
      "name": "python3",
      "display_name": "Python 3"
    },
    "language_info": {
      "name": "python"
    }
  },
  "cells": [
    {
      "cell_type": "code",
      "source": [
        "#input\n",
        "str = input()\n",
        "\n",
        "#splitting the string\n",
        "str1 = str.split()\n",
        "\n",
        "#Reversing function\n",
        "str1 = list(reversed(str1))\n",
        "print(\" \".join(str1))\n",
        "\n",
        "from collections import Counter\n",
        "text = str.lower()\n",
        "text1 = text.split()\n",
        "Counter = Counter(text1)\n",
        "repeated_words = Counter.most_common(2)\n",
        "\n",
        "#printing sentences\n",
        "print(*sentence)\n",
        "print(keys[-1],\":\", frequencOfWords[keys[-1]],\"times\")\n",
        "print(keys[-2],\":\", frequencOfWords[keys[-2]],\"times\")"
      ],
      "metadata": {
        "colab": {
          "base_uri": "https://localhost:8080/"
        },
        "id": "OGSY9QYFimE4",
        "outputId": "3ba4f828-244c-4467-bb95-d9b9a423f554"
      },
      "execution_count": 22,
      "outputs": [
        {
          "output_type": "stream",
          "name": "stdout",
          "text": [
            "Paragraphs are the building blocks of papers. Many students define paragraphs in terms of length: a paragraph is a group of at least five sentences, a paragraph is half a page long, etc. In reality, though, the unity and coherence of ideas among sentences is what constitutes a paragraph. A paragraph is defined as “a group of sentences or a single sentence that forms a unit” (Lunsford and Connors 116). Length and appearance do not determine whether a section in a paper is a paragraph. For instance, in some styles of writing, particularly journalistic styles, a paragraph can be just one sentence long. Ultimately, a paragraph is a sentence or group of sentences that support one main idea. In this handout, we will refer to this as the “controlling idea,” because it controls what happens in the rest of the paragraph.\n",
            "paragraph. the of rest the in happens what controls it because idea,” “controlling the as this to refer will we handout, this In idea. main one support that sentences of group or sentence a is paragraph a Ultimately, long. sentence one just be can paragraph a styles, journalistic particularly writing, of styles some in instance, For paragraph. a is paper a in section a whether determine not do appearance and Length 116). Connors and (Lunsford unit” a forms that sentence single a or sentences of group “a as defined is paragraph A paragraph. a constitutes what is sentences among ideas of coherence and unity the though, reality, In etc. long, page a half is paragraph a sentences, five least at of group a is paragraph a length: of terms in paragraphs define students Many papers. of blocks building the are Paragraphs\n",
            "paragraph. the of rest the in happens what controls it because idea,” “controlling the as this to refer will we handout, this In idea. main one support that sentences of group or sentence a is paragraph a Ultimately, long. sentence one just be can paragraph a styles, journalistic particularly writing, of styles some in instance, For paragraph. a is paper a in section a whether determine not do appearance and Length 116). Connors and (Lunsford unit” a forms that sentence single a or sentences of group “a as defined is paragraph A paragraph. a constitutes what is sentences among ideas of coherence and unity the though, reality, In etc. long, page a half is paragraph a sentences, five least at of group a is paragraph a length: of terms in paragraphs define students Many papers. of blocks building the are Paragraphs\n",
            "a : 13 times\n",
            "of : 8 times\n"
          ]
        }
      ]
    },
    {
      "cell_type": "code",
      "source": [],
      "metadata": {
        "id": "ruHNyVqii1ec"
      },
      "execution_count": null,
      "outputs": []
    }
  ]
}